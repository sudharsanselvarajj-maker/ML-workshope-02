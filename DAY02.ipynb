{
 "cells": [
  {
   "cell_type": "code",
   "execution_count": 1,
   "id": "b022e93b",
   "metadata": {},
   "outputs": [
    {
     "name": "stdout",
     "output_type": "stream",
     "text": [
      "Requirement already satisfied: pandas in c:\\users\\student\\appdata\\local\\programs\\python\\python313\\lib\\site-packages (2.3.2)\n",
      "Requirement already satisfied: numpy>=1.26.0 in c:\\users\\student\\appdata\\local\\programs\\python\\python313\\lib\\site-packages (from pandas) (2.3.3)\n",
      "Requirement already satisfied: python-dateutil>=2.8.2 in c:\\users\\student\\appdata\\local\\programs\\python\\python313\\lib\\site-packages (from pandas) (2.9.0.post0)\n",
      "Requirement already satisfied: pytz>=2020.1 in c:\\users\\student\\appdata\\local\\programs\\python\\python313\\lib\\site-packages (from pandas) (2025.2)\n",
      "Requirement already satisfied: tzdata>=2022.7 in c:\\users\\student\\appdata\\local\\programs\\python\\python313\\lib\\site-packages (from pandas) (2025.2)\n",
      "Requirement already satisfied: six>=1.5 in c:\\users\\student\\appdata\\local\\programs\\python\\python313\\lib\\site-packages (from python-dateutil>=2.8.2->pandas) (1.17.0)\n",
      "Note: you may need to restart the kernel to use updated packages.\n"
     ]
    },
    {
     "name": "stderr",
     "output_type": "stream",
     "text": [
      "\n",
      "[notice] A new release of pip is available: 25.1.1 -> 25.2\n",
      "[notice] To update, run: python.exe -m pip install --upgrade pip\n"
     ]
    }
   ],
   "source": [
    "%pip install pandas"
   ]
  },
  {
   "cell_type": "code",
   "execution_count": 2,
   "id": "ec396847",
   "metadata": {},
   "outputs": [
    {
     "data": {
      "text/html": [
       "<div>\n",
       "<style scoped>\n",
       "    .dataframe tbody tr th:only-of-type {\n",
       "        vertical-align: middle;\n",
       "    }\n",
       "\n",
       "    .dataframe tbody tr th {\n",
       "        vertical-align: top;\n",
       "    }\n",
       "\n",
       "    .dataframe thead th {\n",
       "        text-align: right;\n",
       "    }\n",
       "</style>\n",
       "<table border=\"1\" class=\"dataframe\">\n",
       "  <thead>\n",
       "    <tr style=\"text-align: right;\">\n",
       "      <th></th>\n",
       "      <th>OriginalTweet</th>\n",
       "      <th>Sentiment</th>\n",
       "    </tr>\n",
       "  </thead>\n",
       "  <tbody>\n",
       "    <tr>\n",
       "      <th>0</th>\n",
       "      <td>TRENDING: New Yorkers encounter empty supermar...</td>\n",
       "      <td>Extremely Negative</td>\n",
       "    </tr>\n",
       "    <tr>\n",
       "      <th>1</th>\n",
       "      <td>When I couldn't find hand sanitizer at Fred Me...</td>\n",
       "      <td>Positive</td>\n",
       "    </tr>\n",
       "    <tr>\n",
       "      <th>2</th>\n",
       "      <td>Find out how you can protect yourself and love...</td>\n",
       "      <td>Extremely Positive</td>\n",
       "    </tr>\n",
       "    <tr>\n",
       "      <th>3</th>\n",
       "      <td>#Panic buying hits #NewYork City as anxious sh...</td>\n",
       "      <td>Negative</td>\n",
       "    </tr>\n",
       "    <tr>\n",
       "      <th>4</th>\n",
       "      <td>#toiletpaper #dunnypaper #coronavirus #coronav...</td>\n",
       "      <td>Neutral</td>\n",
       "    </tr>\n",
       "    <tr>\n",
       "      <th>...</th>\n",
       "      <td>...</td>\n",
       "      <td>...</td>\n",
       "    </tr>\n",
       "    <tr>\n",
       "      <th>3793</th>\n",
       "      <td>Meanwhile In A Supermarket in Israel -- People...</td>\n",
       "      <td>Positive</td>\n",
       "    </tr>\n",
       "    <tr>\n",
       "      <th>3794</th>\n",
       "      <td>Did you panic buy a lot of non-perishable item...</td>\n",
       "      <td>Negative</td>\n",
       "    </tr>\n",
       "    <tr>\n",
       "      <th>3795</th>\n",
       "      <td>Asst Prof of Economics @cconces was on @NBCPhi...</td>\n",
       "      <td>Neutral</td>\n",
       "    </tr>\n",
       "    <tr>\n",
       "      <th>3796</th>\n",
       "      <td>Gov need to do somethings instead of biar je r...</td>\n",
       "      <td>Extremely Negative</td>\n",
       "    </tr>\n",
       "    <tr>\n",
       "      <th>3797</th>\n",
       "      <td>I and @ForestandPaper members are committed to...</td>\n",
       "      <td>Extremely Positive</td>\n",
       "    </tr>\n",
       "  </tbody>\n",
       "</table>\n",
       "<p>3798 rows × 2 columns</p>\n",
       "</div>"
      ],
      "text/plain": [
       "                                          OriginalTweet           Sentiment\n",
       "0     TRENDING: New Yorkers encounter empty supermar...  Extremely Negative\n",
       "1     When I couldn't find hand sanitizer at Fred Me...            Positive\n",
       "2     Find out how you can protect yourself and love...  Extremely Positive\n",
       "3     #Panic buying hits #NewYork City as anxious sh...            Negative\n",
       "4     #toiletpaper #dunnypaper #coronavirus #coronav...             Neutral\n",
       "...                                                 ...                 ...\n",
       "3793  Meanwhile In A Supermarket in Israel -- People...            Positive\n",
       "3794  Did you panic buy a lot of non-perishable item...            Negative\n",
       "3795  Asst Prof of Economics @cconces was on @NBCPhi...             Neutral\n",
       "3796  Gov need to do somethings instead of biar je r...  Extremely Negative\n",
       "3797  I and @ForestandPaper members are committed to...  Extremely Positive\n",
       "\n",
       "[3798 rows x 2 columns]"
      ]
     },
     "execution_count": 2,
     "metadata": {},
     "output_type": "execute_result"
    }
   ],
   "source": [
    "import pandas as pd\n",
    "import pandas as pd\n",
    "import matplotlib.pyplot as plt\n",
    "\n",
    "from nltk.tokenize import word_tokenize\n",
    "import string\n",
    "import re\n",
    "from nltk.corpus import stopwords\n",
    "from sklearn.feature_extraction.text import TfidfVectorizer\n",
    "from sklearn.model_selection import train_test_split, GridSearchCV\n",
    "from sklearn.metrics import confusion_matrix, classification_report, f1_score, roc_auc_score, precision_score, recall_score, accuracy_score\n",
    "data = pd.read_csv(\"C:/Users/Student/Desktop/gopal/Corona_NLP_test.csv\",encoding='latin1')\n",
    "data\n",
    "\n",
    "\n"
   ]
  },
  {
   "cell_type": "code",
   "execution_count": 3,
   "id": "099327d5",
   "metadata": {},
   "outputs": [
    {
     "data": {
      "text/plain": [
       "\"Attack on Titan (Japanese: é\\x80²æ\\x92\\x83ã\\x81®å·¨äºº, Hepburn: Shingeki no Kyojin; lit.â\\x80\\x89'The Advancing Giant(s)') is a Japanese dark fantasy anime television series. It is an adaptation of Hajime Isayama's 2009â\\x80\\x932021 manga series Attack on Titan. The series premiered on April 7, 2013, and concluded on November 5, 2023. Animated by Wit Studio (first three seasons) and MAPPA (final season), the series aired on Mainichi Broadcasting System (first two seasons) and NHK General TV (third season onwards). In North America, the series has been streamed on Crunchyroll, Funimation, and Hulu. Attack on Titan has also aired on Adult Swim's Toonami programming block in the United States.\""
      ]
     },
     "execution_count": 3,
     "metadata": {},
     "output_type": "execute_result"
    }
   ],
   "source": [
    "file = open(\"C:/Users/Student/Desktop/gopal/Sample.txt\",encoding='latin1')\n",
    "data_2 = file.read()\n",
    "data_2\n",
    "\n"
   ]
  },
  {
   "cell_type": "code",
   "execution_count": 4,
   "id": "6f928e1f",
   "metadata": {},
   "outputs": [
    {
     "name": "stdout",
     "output_type": "stream",
     "text": [
      "Data has been saved to C:/Users/Student/dharsh/pritheev/Book1.csv\n"
     ]
    }
   ],
   "source": [
    "import requests\n",
    "import pandas as pd\n",
    "\n",
    "# URL of the raw CSV file\n",
    "url = \"https://raw.githubusercontent.com/omaarelsherif/Movie-Reviews-Sentiment-Analysis-Using-Machine-Learning/main/Dataset/IMDB.csv\"\n",
    "\n",
    "# Fetch the content from the URL\n",
    "response = requests.get(url)\n",
    "response.raise_for_status()  # Check if the request was successful\n",
    "\n",
    "# Save the content to a CSV file\n",
    "csv_file_path = \"C:/Users/Student/dharsh/pritheev/Book1.csv\"\n",
    "with open(csv_file_path, 'wb') as file:\n",
    "    file.write(response.content)\n",
    "\n",
    "print(f\"Data has been saved to {csv_file_path}\")"
   ]
  },
  {
   "cell_type": "code",
   "execution_count": 5,
   "id": "58208664",
   "metadata": {},
   "outputs": [
    {
     "data": {
      "text/plain": [
       "[\"Attack on Titan (Japanese: é\\x80²æ\\x92\\x83ã\\x81®å·¨äºº, Hepburn: Shingeki no Kyojin; lit.â\\x80\\x89'The Advancing Giant(s)') is a Japanese dark fantasy anime television series.\",\n",
       " \"It is an adaptation of Hajime Isayama's 2009â\\x80\\x932021 manga series Attack on Titan.\",\n",
       " 'The series premiered on April 7, 2013, and concluded on November 5, 2023.',\n",
       " 'Animated by Wit Studio (first three seasons) and MAPPA (final season), the series aired on Mainichi Broadcasting System (first two seasons) and NHK General TV (third season onwards).',\n",
       " 'In North America, the series has been streamed on Crunchyroll, Funimation, and Hulu.',\n",
       " \"Attack on Titan has also aired on Adult Swim's Toonami programming block in the United States.\"]"
      ]
     },
     "execution_count": 5,
     "metadata": {},
     "output_type": "execute_result"
    }
   ],
   "source": [
    "import nltk\n",
    "sentences = nltk.sent_tokenize(data_2)\n",
    "sentences\n"
   ]
  },
  {
   "cell_type": "code",
   "execution_count": 6,
   "id": "9eed0595",
   "metadata": {},
   "outputs": [
    {
     "data": {
      "text/plain": [
       "6"
      ]
     },
     "execution_count": 6,
     "metadata": {},
     "output_type": "execute_result"
    }
   ],
   "source": [
    "len(sentences)\n"
   ]
  },
  {
   "cell_type": "code",
   "execution_count": 7,
   "id": "1c80dad4",
   "metadata": {},
   "outputs": [
    {
     "data": {
      "text/plain": [
       "['Attack',\n",
       " 'on',\n",
       " 'Titan',\n",
       " '(',\n",
       " 'Japanese',\n",
       " ':',\n",
       " 'é\\x80²æ\\x92\\x83ã\\x81®å·¨äºº',\n",
       " ',',\n",
       " 'Hepburn',\n",
       " ':',\n",
       " 'Shingeki',\n",
       " 'no',\n",
       " 'Kyojin',\n",
       " ';',\n",
       " \"lit.â\\x80\\x89'The\",\n",
       " 'Advancing',\n",
       " 'Giant',\n",
       " '(',\n",
       " 's',\n",
       " ')',\n",
       " \"'\",\n",
       " ')',\n",
       " 'is',\n",
       " 'a',\n",
       " 'Japanese',\n",
       " 'dark',\n",
       " 'fantasy',\n",
       " 'anime',\n",
       " 'television',\n",
       " 'series',\n",
       " '.',\n",
       " 'It',\n",
       " 'is',\n",
       " 'an',\n",
       " 'adaptation',\n",
       " 'of',\n",
       " 'Hajime',\n",
       " 'Isayama',\n",
       " \"'s\",\n",
       " '2009â\\x80\\x932021',\n",
       " 'manga',\n",
       " 'series',\n",
       " 'Attack',\n",
       " 'on',\n",
       " 'Titan',\n",
       " '.',\n",
       " 'The',\n",
       " 'series',\n",
       " 'premiered',\n",
       " 'on',\n",
       " 'April',\n",
       " '7',\n",
       " ',',\n",
       " '2013',\n",
       " ',',\n",
       " 'and',\n",
       " 'concluded',\n",
       " 'on',\n",
       " 'November',\n",
       " '5',\n",
       " ',',\n",
       " '2023',\n",
       " '.',\n",
       " 'Animated',\n",
       " 'by',\n",
       " 'Wit',\n",
       " 'Studio',\n",
       " '(',\n",
       " 'first',\n",
       " 'three',\n",
       " 'seasons',\n",
       " ')',\n",
       " 'and',\n",
       " 'MAPPA',\n",
       " '(',\n",
       " 'final',\n",
       " 'season',\n",
       " ')',\n",
       " ',',\n",
       " 'the',\n",
       " 'series',\n",
       " 'aired',\n",
       " 'on',\n",
       " 'Mainichi',\n",
       " 'Broadcasting',\n",
       " 'System',\n",
       " '(',\n",
       " 'first',\n",
       " 'two',\n",
       " 'seasons',\n",
       " ')',\n",
       " 'and',\n",
       " 'NHK',\n",
       " 'General',\n",
       " 'TV',\n",
       " '(',\n",
       " 'third',\n",
       " 'season',\n",
       " 'onwards',\n",
       " ')',\n",
       " '.',\n",
       " 'In',\n",
       " 'North',\n",
       " 'America',\n",
       " ',',\n",
       " 'the',\n",
       " 'series',\n",
       " 'has',\n",
       " 'been',\n",
       " 'streamed',\n",
       " 'on',\n",
       " 'Crunchyroll',\n",
       " ',',\n",
       " 'Funimation',\n",
       " ',',\n",
       " 'and',\n",
       " 'Hulu',\n",
       " '.',\n",
       " 'Attack',\n",
       " 'on',\n",
       " 'Titan',\n",
       " 'has',\n",
       " 'also',\n",
       " 'aired',\n",
       " 'on',\n",
       " 'Adult',\n",
       " 'Swim',\n",
       " \"'s\",\n",
       " 'Toonami',\n",
       " 'programming',\n",
       " 'block',\n",
       " 'in',\n",
       " 'the',\n",
       " 'United',\n",
       " 'States',\n",
       " '.']"
      ]
     },
     "execution_count": 7,
     "metadata": {},
     "output_type": "execute_result"
    }
   ],
   "source": [
    "tokens = nltk.word_tokenize(data_2)\n",
    "tokens"
   ]
  },
  {
   "cell_type": "code",
   "execution_count": 8,
   "id": "425f36e3",
   "metadata": {},
   "outputs": [
    {
     "data": {
      "text/html": [
       "<div>\n",
       "<style scoped>\n",
       "    .dataframe tbody tr th:only-of-type {\n",
       "        vertical-align: middle;\n",
       "    }\n",
       "\n",
       "    .dataframe tbody tr th {\n",
       "        vertical-align: top;\n",
       "    }\n",
       "\n",
       "    .dataframe thead th {\n",
       "        text-align: right;\n",
       "    }\n",
       "</style>\n",
       "<table border=\"1\" class=\"dataframe\">\n",
       "  <thead>\n",
       "    <tr style=\"text-align: right;\">\n",
       "      <th></th>\n",
       "      <th>review</th>\n",
       "      <th>sentiment</th>\n",
       "    </tr>\n",
       "  </thead>\n",
       "  <tbody>\n",
       "    <tr>\n",
       "      <th>0</th>\n",
       "      <td>One of the other reviewers has mentioned that ...</td>\n",
       "      <td>positive</td>\n",
       "    </tr>\n",
       "    <tr>\n",
       "      <th>1</th>\n",
       "      <td>A wonderful little production. &lt;br /&gt;&lt;br /&gt;The...</td>\n",
       "      <td>positive</td>\n",
       "    </tr>\n",
       "    <tr>\n",
       "      <th>2</th>\n",
       "      <td>I thought this was a wonderful way to spend ti...</td>\n",
       "      <td>positive</td>\n",
       "    </tr>\n",
       "    <tr>\n",
       "      <th>3</th>\n",
       "      <td>Basically there's a family where a little boy ...</td>\n",
       "      <td>negative</td>\n",
       "    </tr>\n",
       "    <tr>\n",
       "      <th>4</th>\n",
       "      <td>Petter Mattei's \"Love in the Time of Money\" is...</td>\n",
       "      <td>positive</td>\n",
       "    </tr>\n",
       "    <tr>\n",
       "      <th>...</th>\n",
       "      <td>...</td>\n",
       "      <td>...</td>\n",
       "    </tr>\n",
       "    <tr>\n",
       "      <th>49995</th>\n",
       "      <td>I thought this movie did a down right good job...</td>\n",
       "      <td>positive</td>\n",
       "    </tr>\n",
       "    <tr>\n",
       "      <th>49996</th>\n",
       "      <td>Bad plot, bad dialogue, bad acting, idiotic di...</td>\n",
       "      <td>negative</td>\n",
       "    </tr>\n",
       "    <tr>\n",
       "      <th>49997</th>\n",
       "      <td>I am a Catholic taught in parochial elementary...</td>\n",
       "      <td>negative</td>\n",
       "    </tr>\n",
       "    <tr>\n",
       "      <th>49998</th>\n",
       "      <td>I'm going to have to disagree with the previou...</td>\n",
       "      <td>negative</td>\n",
       "    </tr>\n",
       "    <tr>\n",
       "      <th>49999</th>\n",
       "      <td>No one expects the Star Trek movies to be high...</td>\n",
       "      <td>negative</td>\n",
       "    </tr>\n",
       "  </tbody>\n",
       "</table>\n",
       "<p>50000 rows × 2 columns</p>\n",
       "</div>"
      ],
      "text/plain": [
       "                                                  review sentiment\n",
       "0      One of the other reviewers has mentioned that ...  positive\n",
       "1      A wonderful little production. <br /><br />The...  positive\n",
       "2      I thought this was a wonderful way to spend ti...  positive\n",
       "3      Basically there's a family where a little boy ...  negative\n",
       "4      Petter Mattei's \"Love in the Time of Money\" is...  positive\n",
       "...                                                  ...       ...\n",
       "49995  I thought this movie did a down right good job...  positive\n",
       "49996  Bad plot, bad dialogue, bad acting, idiotic di...  negative\n",
       "49997  I am a Catholic taught in parochial elementary...  negative\n",
       "49998  I'm going to have to disagree with the previou...  negative\n",
       "49999  No one expects the Star Trek movies to be high...  negative\n",
       "\n",
       "[50000 rows x 2 columns]"
      ]
     },
     "execution_count": 8,
     "metadata": {},
     "output_type": "execute_result"
    }
   ],
   "source": [
    "# Read the dataset\n",
    "dataset = pd.read_csv(\"E:/DAY 02/IMDb_Reviews.csv\")\n",
    "dataset"
   ]
  },
  {
   "cell_type": "code",
   "execution_count": 9,
   "id": "f3ad0b8d",
   "metadata": {},
   "outputs": [
    {
     "data": {
      "text/html": [
       "<div>\n",
       "<style scoped>\n",
       "    .dataframe tbody tr th:only-of-type {\n",
       "        vertical-align: middle;\n",
       "    }\n",
       "\n",
       "    .dataframe tbody tr th {\n",
       "        vertical-align: top;\n",
       "    }\n",
       "\n",
       "    .dataframe thead th {\n",
       "        text-align: right;\n",
       "    }\n",
       "</style>\n",
       "<table border=\"1\" class=\"dataframe\">\n",
       "  <thead>\n",
       "    <tr style=\"text-align: right;\">\n",
       "      <th></th>\n",
       "      <th>review</th>\n",
       "      <th>sentiment</th>\n",
       "    </tr>\n",
       "  </thead>\n",
       "  <tbody>\n",
       "    <tr>\n",
       "      <th>0</th>\n",
       "      <td>I really liked this Summerslam due to the look...</td>\n",
       "      <td>positive</td>\n",
       "    </tr>\n",
       "    <tr>\n",
       "      <th>1</th>\n",
       "      <td>Not many television shows appeal to quite as m...</td>\n",
       "      <td>positive</td>\n",
       "    </tr>\n",
       "    <tr>\n",
       "      <th>2</th>\n",
       "      <td>The film quickly gets to a major chase scene w...</td>\n",
       "      <td>negative</td>\n",
       "    </tr>\n",
       "    <tr>\n",
       "      <th>3</th>\n",
       "      <td>Jane Austen would definitely approve of this o...</td>\n",
       "      <td>positive</td>\n",
       "    </tr>\n",
       "    <tr>\n",
       "      <th>4</th>\n",
       "      <td>Expectations were somewhat high for me when I ...</td>\n",
       "      <td>negative</td>\n",
       "    </tr>\n",
       "    <tr>\n",
       "      <th>...</th>\n",
       "      <td>...</td>\n",
       "      <td>...</td>\n",
       "    </tr>\n",
       "    <tr>\n",
       "      <th>4995</th>\n",
       "      <td>One of eastwood's best movies after he had sep...</td>\n",
       "      <td>positive</td>\n",
       "    </tr>\n",
       "    <tr>\n",
       "      <th>4996</th>\n",
       "      <td>My blurred childhood memories have kept the ec...</td>\n",
       "      <td>negative</td>\n",
       "    </tr>\n",
       "    <tr>\n",
       "      <th>4997</th>\n",
       "      <td>I love Zombie-Movies and I love amateur-produc...</td>\n",
       "      <td>negative</td>\n",
       "    </tr>\n",
       "    <tr>\n",
       "      <th>4998</th>\n",
       "      <td>Chan is in New York and he gets involved with ...</td>\n",
       "      <td>positive</td>\n",
       "    </tr>\n",
       "    <tr>\n",
       "      <th>4999</th>\n",
       "      <td>My wife and I both thought this film a watered...</td>\n",
       "      <td>negative</td>\n",
       "    </tr>\n",
       "  </tbody>\n",
       "</table>\n",
       "<p>5000 rows × 2 columns</p>\n",
       "</div>"
      ],
      "text/plain": [
       "                                                 review sentiment\n",
       "0     I really liked this Summerslam due to the look...  positive\n",
       "1     Not many television shows appeal to quite as m...  positive\n",
       "2     The film quickly gets to a major chase scene w...  negative\n",
       "3     Jane Austen would definitely approve of this o...  positive\n",
       "4     Expectations were somewhat high for me when I ...  negative\n",
       "...                                                 ...       ...\n",
       "4995  One of eastwood's best movies after he had sep...  positive\n",
       "4996  My blurred childhood memories have kept the ec...  negative\n",
       "4997  I love Zombie-Movies and I love amateur-produc...  negative\n",
       "4998  Chan is in New York and he gets involved with ...  positive\n",
       "4999  My wife and I both thought this film a watered...  negative\n",
       "\n",
       "[5000 rows x 2 columns]"
      ]
     },
     "execution_count": 9,
     "metadata": {},
     "output_type": "execute_result"
    }
   ],
   "source": [
    "# Perform random sampling\n",
    "dataset = dataset.sample(n = 5000, random_state = 42)  # Adjust the value of n as needed\n",
    "\n",
    "# Reset index\n",
    "dataset.reset_index(drop = True, inplace = True)\n",
    "dataset"
   ]
  },
  {
   "cell_type": "code",
   "execution_count": 10,
   "id": "05708126",
   "metadata": {},
   "outputs": [
    {
     "data": {
      "text/plain": [
       "review       0\n",
       "sentiment    0\n",
       "dtype: int64"
      ]
     },
     "execution_count": 10,
     "metadata": {},
     "output_type": "execute_result"
    }
   ],
   "source": [
    "dataset.isnull().sum()"
   ]
  },
  {
   "cell_type": "code",
   "execution_count": 11,
   "id": "9ba419b2",
   "metadata": {},
   "outputs": [
    {
     "name": "stdout",
     "output_type": "stream",
     "text": [
      "Number Of Duplicates: 7\n",
      "Number Of Duplicates after drop: 0\n"
     ]
    }
   ],
   "source": [
    "print(\"Number Of Duplicates:\", dataset.duplicated().sum())\n",
    "dataset.drop_duplicates(inplace = True)\n",
    "print(\"Number Of Duplicates after drop:\", dataset.duplicated().sum())"
   ]
  },
  {
   "cell_type": "code",
   "execution_count": 12,
   "id": "68853c73",
   "metadata": {},
   "outputs": [
    {
     "name": "stdout",
     "output_type": "stream",
     "text": [
      "sentiment\n",
      "positive    2517\n",
      "negative    2476\n",
      "Name: count, dtype: int64\n"
     ]
    },
    {
     "data": {
      "text/plain": [
       "<Axes: title={'center': 'Sentiment Distribution'}, xlabel='sentiment'>"
      ]
     },
     "execution_count": 12,
     "metadata": {},
     "output_type": "execute_result"
    },
    {
     "data": {
      "image/png": "[encoded data removed]",
      "text/plain": [
       "<Figure size 640x480 with 1 Axes>"
      ]
     },
     "metadata": {},
     "output_type": "display_data"
    }
   ],
   "source": [
    "print(dataset['sentiment'].value_counts())\n",
    "dataset['sentiment'].value_counts().plot(kind = 'bar', title = 'Sentiment Distribution')\n"
   ]
  },
  {
   "cell_type": "code",
   "execution_count": 13,
   "id": "ef4b5ae1",
   "metadata": {},
   "outputs": [],
   "source": [
    "dataset['review'] = dataset['review'].apply(lambda x:x.lower())"
   ]
  },
  {
   "cell_type": "code",
   "execution_count": 14,
   "id": "fb3c7d5c",
   "metadata": {},
   "outputs": [],
   "source": [
    "def remove_tags(raw_text):\n",
    "    cleaned_text = re.sub(re.compile('<.*?>'),\"\",raw_text)\n",
    "    return cleaned_text\n",
    "dataset['review'] = dataset['review'].apply(remove_tags)"
   ]
  },
  {
   "cell_type": "code",
   "execution_count": 15,
   "id": "3529f1d5",
   "metadata": {},
   "outputs": [],
   "source": [
    "def remove_urls(raw_text):\n",
    "    cleaned_text = re.sub(r'http[s]?://\\S+', '', raw_text)\n",
    "    return cleaned_text\n",
    "\n",
    "# Apply the function to your dataset\n",
    "dataset['review'] = dataset['review'].apply(remove_urls)"
   ]
  },
  {
   "cell_type": "code",
   "execution_count": 16,
   "id": "fe319744",
   "metadata": {},
   "outputs": [],
   "source": [
    "def remove_urls(raw_text):\n",
    "    cleaned_text = re.sub(r'http[s]?://\\S+', '', raw_text)\n",
    "    return cleaned_text\n",
    "\n",
    "# Apply the function to your dataset\n",
    "dataset['review'] = dataset['review'].apply(remove_urls)"
   ]
  },
  {
   "cell_type": "code",
   "execution_count": 17,
   "id": "c04afe5e",
   "metadata": {},
   "outputs": [],
   "source": [
    "def remove_punctuation(text):\n",
    "    for c in string.punctuation:\n",
    "        text = text.replace(c,'')\n",
    "    return text\n",
    "dataset['review'] = dataset['review'].apply(remove_punctuation)"
   ]
  },
  {
   "cell_type": "code",
   "execution_count": 18,
   "id": "b904a74b",
   "metadata": {},
   "outputs": [
    {
     "name": "stderr",
     "output_type": "stream",
     "text": [
      "[nltk_data] Downloading package stopwords to\n",
      "[nltk_data]     C:\\Users\\Student\\AppData\\Roaming\\nltk_data...\n",
      "[nltk_data]   Package stopwords is already up-to-date!\n"
     ]
    }
   ],
   "source": [
    "import nltk\n",
    "nltk.download('stopwords')\n",
    "sw_list = stopwords.words('english')\n",
    "dataset['review'] = dataset['review'].apply(\n",
    "    lambda x: [item for item in x.split() if item not in sw_list]).apply(lambda x:\" \".join(x))"
   ]
  },
  {
   "cell_type": "code",
   "execution_count": 19,
   "id": "3f0957ed",
   "metadata": {},
   "outputs": [
    {
     "data": {
      "text/html": [
       "<div>\n",
       "<style scoped>\n",
       "    .dataframe tbody tr th:only-of-type {\n",
       "        vertical-align: middle;\n",
       "    }\n",
       "\n",
       "    .dataframe tbody tr th {\n",
       "        vertical-align: top;\n",
       "    }\n",
       "\n",
       "    .dataframe thead th {\n",
       "        text-align: right;\n",
       "    }\n",
       "</style>\n",
       "<table border=\"1\" class=\"dataframe\">\n",
       "  <thead>\n",
       "    <tr style=\"text-align: right;\">\n",
       "      <th></th>\n",
       "      <th>review</th>\n",
       "      <th>sentiment</th>\n",
       "    </tr>\n",
       "  </thead>\n",
       "  <tbody>\n",
       "    <tr>\n",
       "      <th>0</th>\n",
       "      <td>really liked summerslam due look arena curtain...</td>\n",
       "      <td>positive</td>\n",
       "    </tr>\n",
       "    <tr>\n",
       "      <th>1</th>\n",
       "      <td>many television shows appeal quite many differ...</td>\n",
       "      <td>positive</td>\n",
       "    </tr>\n",
       "    <tr>\n",
       "      <th>2</th>\n",
       "      <td>film quickly gets major chase scene ever incre...</td>\n",
       "      <td>negative</td>\n",
       "    </tr>\n",
       "    <tr>\n",
       "      <th>3</th>\n",
       "      <td>jane austen would definitely approve onegwynet...</td>\n",
       "      <td>positive</td>\n",
       "    </tr>\n",
       "    <tr>\n",
       "      <th>4</th>\n",
       "      <td>expectations somewhat high went see movie thou...</td>\n",
       "      <td>negative</td>\n",
       "    </tr>\n",
       "    <tr>\n",
       "      <th>...</th>\n",
       "      <td>...</td>\n",
       "      <td>...</td>\n",
       "    </tr>\n",
       "    <tr>\n",
       "      <th>4995</th>\n",
       "      <td>one eastwoods best movies separated westerns g...</td>\n",
       "      <td>positive</td>\n",
       "    </tr>\n",
       "    <tr>\n",
       "      <th>4996</th>\n",
       "      <td>blurred childhood memories kept echo cult seri...</td>\n",
       "      <td>negative</td>\n",
       "    </tr>\n",
       "    <tr>\n",
       "      <th>4997</th>\n",
       "      <td>love zombiemovies love amateurproductions meat...</td>\n",
       "      <td>negative</td>\n",
       "    </tr>\n",
       "    <tr>\n",
       "      <th>4998</th>\n",
       "      <td>chan new york gets involved attempt sabotage n...</td>\n",
       "      <td>positive</td>\n",
       "    </tr>\n",
       "    <tr>\n",
       "      <th>4999</th>\n",
       "      <td>wife thought film watereddown madefortv bbc ve...</td>\n",
       "      <td>negative</td>\n",
       "    </tr>\n",
       "  </tbody>\n",
       "</table>\n",
       "<p>4993 rows × 2 columns</p>\n",
       "</div>"
      ],
      "text/plain": [
       "                                                 review sentiment\n",
       "0     really liked summerslam due look arena curtain...  positive\n",
       "1     many television shows appeal quite many differ...  positive\n",
       "2     film quickly gets major chase scene ever incre...  negative\n",
       "3     jane austen would definitely approve onegwynet...  positive\n",
       "4     expectations somewhat high went see movie thou...  negative\n",
       "...                                                 ...       ...\n",
       "4995  one eastwoods best movies separated westerns g...  positive\n",
       "4996  blurred childhood memories kept echo cult seri...  negative\n",
       "4997  love zombiemovies love amateurproductions meat...  negative\n",
       "4998  chan new york gets involved attempt sabotage n...  positive\n",
       "4999  wife thought film watereddown madefortv bbc ve...  negative\n",
       "\n",
       "[4993 rows x 2 columns]"
      ]
     },
     "execution_count": 19,
     "metadata": {},
     "output_type": "execute_result"
    }
   ],
   "source": [
    "dataset"
   ]
  },
  {
   "cell_type": "code",
   "execution_count": 20,
   "id": "aa66c6b0",
   "metadata": {},
   "outputs": [
    {
     "name": "stderr",
     "output_type": "stream",
     "text": [
      "[nltk_data] Downloading package punkt to\n",
      "[nltk_data]     C:\\Users\\Student\\AppData\\Roaming\\nltk_data...\n",
      "[nltk_data]   Package punkt is already up-to-date!\n"
     ]
    }
   ],
   "source": [
    "# Tokenize the sentence\n",
    "import nltk\n",
    "nltk.download('punkt')\n",
    "dataset['review'] = dataset['review'].apply(lambda sentence: word_tokenize(sentence))"
   ]
  },
  {
   "cell_type": "code",
   "execution_count": 21,
   "id": "f5e66d57",
   "metadata": {},
   "outputs": [
    {
     "data": {
      "text/plain": [
       "['really',\n",
       " 'liked',\n",
       " 'summerslam',\n",
       " 'due',\n",
       " 'look',\n",
       " 'arena',\n",
       " 'curtains',\n",
       " 'look',\n",
       " 'overall',\n",
       " 'interesting',\n",
       " 'reason',\n",
       " 'anyways',\n",
       " 'could',\n",
       " 'one',\n",
       " 'best',\n",
       " 'summerslams',\n",
       " 'ever',\n",
       " 'wwf',\n",
       " 'didnt',\n",
       " 'lex',\n",
       " 'luger',\n",
       " 'main',\n",
       " 'event',\n",
       " 'yokozuna',\n",
       " 'time',\n",
       " 'ok',\n",
       " 'huge',\n",
       " 'fat',\n",
       " 'man',\n",
       " 'vs',\n",
       " 'strong',\n",
       " 'man',\n",
       " 'im',\n",
       " 'glad',\n",
       " 'times',\n",
       " 'changed',\n",
       " 'terrible',\n",
       " 'main',\n",
       " 'event',\n",
       " 'like',\n",
       " 'every',\n",
       " 'match',\n",
       " 'luger',\n",
       " 'terrible',\n",
       " 'matches',\n",
       " 'card',\n",
       " 'razor',\n",
       " 'ramon',\n",
       " 'vs',\n",
       " 'ted',\n",
       " 'dibiase',\n",
       " 'steiner',\n",
       " 'brothers',\n",
       " 'vs',\n",
       " 'heavenly',\n",
       " 'bodies',\n",
       " 'shawn',\n",
       " 'michaels',\n",
       " 'vs',\n",
       " 'curt',\n",
       " 'hening',\n",
       " 'event',\n",
       " 'shawn',\n",
       " 'named',\n",
       " 'big',\n",
       " 'monster',\n",
       " 'body',\n",
       " 'guard',\n",
       " 'diesel',\n",
       " 'irs',\n",
       " 'vs',\n",
       " '123',\n",
       " 'kid',\n",
       " 'bret',\n",
       " 'hart',\n",
       " 'first',\n",
       " 'takes',\n",
       " 'doink',\n",
       " 'takes',\n",
       " 'jerry',\n",
       " 'lawler',\n",
       " 'stuff',\n",
       " 'harts',\n",
       " 'lawler',\n",
       " 'always',\n",
       " 'interesting',\n",
       " 'ludvig',\n",
       " 'borga',\n",
       " 'destroyed',\n",
       " 'marty',\n",
       " 'jannetty',\n",
       " 'undertaker',\n",
       " 'took',\n",
       " 'giant',\n",
       " 'gonzalez',\n",
       " 'another',\n",
       " 'terrible',\n",
       " 'match',\n",
       " 'smoking',\n",
       " 'gunns',\n",
       " 'tatanka',\n",
       " 'took',\n",
       " 'bam',\n",
       " 'bam',\n",
       " 'bigelow',\n",
       " 'headshrinkers',\n",
       " 'yokozuna',\n",
       " 'defended',\n",
       " 'world',\n",
       " 'title',\n",
       " 'lex',\n",
       " 'luger',\n",
       " 'match',\n",
       " 'boring',\n",
       " 'terrible',\n",
       " 'ending',\n",
       " 'however',\n",
       " 'deserves',\n",
       " '810']"
      ]
     },
     "execution_count": 21,
     "metadata": {},
     "output_type": "execute_result"
    }
   ],
   "source": [
    "dataset['review'][0]"
   ]
  },
  {
   "cell_type": "code",
   "execution_count": 22,
   "id": "f46aaef6",
   "metadata": {},
   "outputs": [
    {
     "name": "stderr",
     "output_type": "stream",
     "text": [
      "[nltk_data] Downloading package averaged_perceptron_tagger to\n",
      "[nltk_data]     C:\\Users\\Student\\AppData\\Roaming\\nltk_data...\n",
      "[nltk_data]   Package averaged_perceptron_tagger is already up-to-\n",
      "[nltk_data]       date!\n",
      "[nltk_data] Downloading package wordnet to\n",
      "[nltk_data]     C:\\Users\\Student\\AppData\\Roaming\\nltk_data...\n",
      "[nltk_data]   Package wordnet is already up-to-date!\n"
     ]
    }
   ],
   "source": [
    "import nltk\n",
    "from nltk.stem import WordNetLemmatizer\n",
    "from nltk.tokenize import word_tokenize\n",
    "\n",
    "nltk.download('averaged_perceptron_tagger')\n",
    "nltk.download('wordnet')\n",
    "\n",
    "# Initialize the WordNetLemmatizer\n",
    "lemmatizer = WordNetLemmatizer()\n",
    "\n",
    "# Function to lemmatize tokens with POS tagging\n",
    "def lemmatize_with_pos(tokens):\n",
    "    tagged_tokens = nltk.pos_tag(tokens)  # Perform POS tagging\n",
    "    lemmatized_tokens = []\n",
    "    for token, tag in tagged_tokens:\n",
    "        # Convert POS tag to WordNet POS tag\n",
    "        wn_tag = nltk.corpus.wordnet.NOUN\n",
    "        if tag.startswith('J'):\n",
    "            wn_tag = nltk.corpus.wordnet.ADJ\n",
    "        elif tag.startswith('V'):\n",
    "            wn_tag = nltk.corpus.wordnet.VERB\n",
    "        elif tag.startswith('R'):\n",
    "            wn_tag = nltk.corpus.wordnet.ADV\n",
    "        # Lemmatize token with POS tag\n",
    "        lemma = lemmatizer.lemmatize(token, pos=wn_tag)\n",
    "        lemmatized_tokens.append(lemma)\n",
    "    return lemmatized_tokens\n",
    "\n",
    "# Apply lemmatization to your dataset column\n",
    "dataset['review'] = dataset['review'].apply(lemmatize_with_pos)"
   ]
  },
  {
   "cell_type": "code",
   "execution_count": 23,
   "id": "9e976b27",
   "metadata": {},
   "outputs": [
    {
     "data": {
      "text/html": [
       "<div>\n",
       "<style scoped>\n",
       "    .dataframe tbody tr th:only-of-type {\n",
       "        vertical-align: middle;\n",
       "    }\n",
       "\n",
       "    .dataframe tbody tr th {\n",
       "        vertical-align: top;\n",
       "    }\n",
       "\n",
       "    .dataframe thead th {\n",
       "        text-align: right;\n",
       "    }\n",
       "</style>\n",
       "<table border=\"1\" class=\"dataframe\">\n",
       "  <thead>\n",
       "    <tr style=\"text-align: right;\">\n",
       "      <th></th>\n",
       "      <th>review</th>\n",
       "      <th>sentiment</th>\n",
       "    </tr>\n",
       "  </thead>\n",
       "  <tbody>\n",
       "    <tr>\n",
       "      <th>0</th>\n",
       "      <td>[really, liked, summerslam, due, look, arena, ...</td>\n",
       "      <td>positive</td>\n",
       "    </tr>\n",
       "    <tr>\n",
       "      <th>1</th>\n",
       "      <td>[many, television, show, appeal, quite, many, ...</td>\n",
       "      <td>positive</td>\n",
       "    </tr>\n",
       "    <tr>\n",
       "      <th>2</th>\n",
       "      <td>[film, quickly, get, major, chase, scene, ever...</td>\n",
       "      <td>negative</td>\n",
       "    </tr>\n",
       "    <tr>\n",
       "      <th>3</th>\n",
       "      <td>[jane, austen, would, definitely, approve, one...</td>\n",
       "      <td>positive</td>\n",
       "    </tr>\n",
       "    <tr>\n",
       "      <th>4</th>\n",
       "      <td>[expectation, somewhat, high, go, see, movie, ...</td>\n",
       "      <td>negative</td>\n",
       "    </tr>\n",
       "    <tr>\n",
       "      <th>...</th>\n",
       "      <td>...</td>\n",
       "      <td>...</td>\n",
       "    </tr>\n",
       "    <tr>\n",
       "      <th>4995</th>\n",
       "      <td>[one, eastwoods, best, movie, separate, wester...</td>\n",
       "      <td>positive</td>\n",
       "    </tr>\n",
       "    <tr>\n",
       "      <th>4996</th>\n",
       "      <td>[blur, childhood, memory, keep, echo, cult, se...</td>\n",
       "      <td>negative</td>\n",
       "    </tr>\n",
       "    <tr>\n",
       "      <th>4997</th>\n",
       "      <td>[love, zombiemovies, love, amateurproductions,...</td>\n",
       "      <td>negative</td>\n",
       "    </tr>\n",
       "    <tr>\n",
       "      <th>4998</th>\n",
       "      <td>[chan, new, york, get, involve, attempt, sabot...</td>\n",
       "      <td>positive</td>\n",
       "    </tr>\n",
       "    <tr>\n",
       "      <th>4999</th>\n",
       "      <td>[wife, think, film, watereddown, madefortv, bb...</td>\n",
       "      <td>negative</td>\n",
       "    </tr>\n",
       "  </tbody>\n",
       "</table>\n",
       "<p>4993 rows × 2 columns</p>\n",
       "</div>"
      ],
      "text/plain": [
       "                                                 review sentiment\n",
       "0     [really, liked, summerslam, due, look, arena, ...  positive\n",
       "1     [many, television, show, appeal, quite, many, ...  positive\n",
       "2     [film, quickly, get, major, chase, scene, ever...  negative\n",
       "3     [jane, austen, would, definitely, approve, one...  positive\n",
       "4     [expectation, somewhat, high, go, see, movie, ...  negative\n",
       "...                                                 ...       ...\n",
       "4995  [one, eastwoods, best, movie, separate, wester...  positive\n",
       "4996  [blur, childhood, memory, keep, echo, cult, se...  negative\n",
       "4997  [love, zombiemovies, love, amateurproductions,...  negative\n",
       "4998  [chan, new, york, get, involve, attempt, sabot...  positive\n",
       "4999  [wife, think, film, watereddown, madefortv, bb...  negative\n",
       "\n",
       "[4993 rows x 2 columns]"
      ]
     },
     "execution_count": 23,
     "metadata": {},
     "output_type": "execute_result"
    }
   ],
   "source": [
    "dataset"
   ]
  },
  {
   "cell_type": "code",
   "execution_count": 24,
   "id": "d8812aeb",
   "metadata": {},
   "outputs": [],
   "source": [
    "def join(tokens):\n",
    "    return ' '.join(token for token in tokens)\n",
    "\n",
    "dataset['review'] = dataset['review'].apply(join)"
   ]
  },
  {
   "cell_type": "code",
   "execution_count": 25,
   "id": "ebb57e27",
   "metadata": {},
   "outputs": [
    {
     "data": {
      "text/html": [
       "<div>\n",
       "<style scoped>\n",
       "    .dataframe tbody tr th:only-of-type {\n",
       "        vertical-align: middle;\n",
       "    }\n",
       "\n",
       "    .dataframe tbody tr th {\n",
       "        vertical-align: top;\n",
       "    }\n",
       "\n",
       "    .dataframe thead th {\n",
       "        text-align: right;\n",
       "    }\n",
       "</style>\n",
       "<table border=\"1\" class=\"dataframe\">\n",
       "  <thead>\n",
       "    <tr style=\"text-align: right;\">\n",
       "      <th></th>\n",
       "      <th>review</th>\n",
       "      <th>sentiment</th>\n",
       "    </tr>\n",
       "  </thead>\n",
       "  <tbody>\n",
       "    <tr>\n",
       "      <th>0</th>\n",
       "      <td>really liked summerslam due look arena curtain...</td>\n",
       "      <td>positive</td>\n",
       "    </tr>\n",
       "    <tr>\n",
       "      <th>1</th>\n",
       "      <td>many television show appeal quite many differe...</td>\n",
       "      <td>positive</td>\n",
       "    </tr>\n",
       "    <tr>\n",
       "      <th>2</th>\n",
       "      <td>film quickly get major chase scene ever increa...</td>\n",
       "      <td>negative</td>\n",
       "    </tr>\n",
       "    <tr>\n",
       "      <th>3</th>\n",
       "      <td>jane austen would definitely approve onegwynet...</td>\n",
       "      <td>positive</td>\n",
       "    </tr>\n",
       "    <tr>\n",
       "      <th>4</th>\n",
       "      <td>expectation somewhat high go see movie think s...</td>\n",
       "      <td>negative</td>\n",
       "    </tr>\n",
       "    <tr>\n",
       "      <th>...</th>\n",
       "      <td>...</td>\n",
       "      <td>...</td>\n",
       "    </tr>\n",
       "    <tr>\n",
       "      <th>4995</th>\n",
       "      <td>one eastwoods best movie separate western good...</td>\n",
       "      <td>positive</td>\n",
       "    </tr>\n",
       "    <tr>\n",
       "      <th>4996</th>\n",
       "      <td>blur childhood memory keep echo cult serie bel...</td>\n",
       "      <td>negative</td>\n",
       "    </tr>\n",
       "    <tr>\n",
       "      <th>4997</th>\n",
       "      <td>love zombiemovies love amateurproductions meat...</td>\n",
       "      <td>negative</td>\n",
       "    </tr>\n",
       "    <tr>\n",
       "      <th>4998</th>\n",
       "      <td>chan new york get involve attempt sabotage new...</td>\n",
       "      <td>positive</td>\n",
       "    </tr>\n",
       "    <tr>\n",
       "      <th>4999</th>\n",
       "      <td>wife think film watereddown madefortv bbc vers...</td>\n",
       "      <td>negative</td>\n",
       "    </tr>\n",
       "  </tbody>\n",
       "</table>\n",
       "<p>4993 rows × 2 columns</p>\n",
       "</div>"
      ],
      "text/plain": [
       "                                                 review sentiment\n",
       "0     really liked summerslam due look arena curtain...  positive\n",
       "1     many television show appeal quite many differe...  positive\n",
       "2     film quickly get major chase scene ever increa...  negative\n",
       "3     jane austen would definitely approve onegwynet...  positive\n",
       "4     expectation somewhat high go see movie think s...  negative\n",
       "...                                                 ...       ...\n",
       "4995  one eastwoods best movie separate western good...  positive\n",
       "4996  blur childhood memory keep echo cult serie bel...  negative\n",
       "4997  love zombiemovies love amateurproductions meat...  negative\n",
       "4998  chan new york get involve attempt sabotage new...  positive\n",
       "4999  wife think film watereddown madefortv bbc vers...  negative\n",
       "\n",
       "[4993 rows x 2 columns]"
      ]
     },
     "execution_count": 25,
     "metadata": {},
     "output_type": "execute_result"
    }
   ],
   "source": [
    "dataset"
   ]
  },
  {
   "cell_type": "code",
   "execution_count": 26,
   "id": "33108a2c",
   "metadata": {},
   "outputs": [],
   "source": [
    "# Defining feature and labels\n",
    "train, test = train_test_split(dataset, test_size = 0.2, shuffle = True) # Train Split 80-20\n",
    "tfidfvect = TfidfVectorizer(analyzer = \"word\", ngram_range = (1,2), min_df = 10, max_features = 5000)\n",
    "\n",
    "x_train_tfidf = tfidfvect.fit_transform(train['review']).toarray()\n",
    "x_test_tfidf = tfidfvect.transform(test['review']).toarray()\n",
    "\n",
    "y_train = train['sentiment']\n",
    "y_test = test['sentiment']"
   ]
  },
  {
   "cell_type": "code",
   "execution_count": 27,
   "id": "5b2299fe",
   "metadata": {},
   "outputs": [
    {
     "data": {
      "text/plain": [
       "array([[0., 0., 0., ..., 0., 0., 0.],\n",
       "       [0., 0., 0., ..., 0., 0., 0.],\n",
       "       [0., 0., 0., ..., 0., 0., 0.],\n",
       "       ...,\n",
       "       [0., 0., 0., ..., 0., 0., 0.],\n",
       "       [0., 0., 0., ..., 0., 0., 0.],\n",
       "       [0., 0., 0., ..., 0., 0., 0.]], shape=(3994, 5000))"
      ]
     },
     "execution_count": 27,
     "metadata": {},
     "output_type": "execute_result"
    }
   ],
   "source": [
    "x_train_tfidf"
   ]
  },
  {
   "cell_type": "code",
   "execution_count": 28,
   "id": "5e4ce357",
   "metadata": {},
   "outputs": [
    {
     "data": {
      "text/plain": [
       "3672    positive\n",
       "2104    negative\n",
       "2896    positive\n",
       "2490    positive\n",
       "76      negative\n",
       "          ...   \n",
       "3647    negative\n",
       "1686    positive\n",
       "3142    negative\n",
       "899     negative\n",
       "1416    positive\n",
       "Name: sentiment, Length: 3994, dtype: object"
      ]
     },
     "execution_count": 28,
     "metadata": {},
     "output_type": "execute_result"
    }
   ],
   "source": [
    "y_train"
   ]
  },
  {
   "cell_type": "code",
   "execution_count": 29,
   "id": "e7488f01",
   "metadata": {},
   "outputs": [
    {
     "name": "stdout",
     "output_type": "stream",
     "text": [
      "F1 Score:  0.8308522266586462\n",
      "Classification Report: \n",
      "               precision    recall  f1-score   support\n",
      "\n",
      "    negative       0.82      0.83      0.82       477\n",
      "    positive       0.84      0.84      0.84       522\n",
      "\n",
      "    accuracy                           0.83       999\n",
      "   macro avg       0.83      0.83      0.83       999\n",
      "weighted avg       0.83      0.83      0.83       999\n",
      "\n"
     ]
    }
   ],
   "source": [
    "from sklearn.naive_bayes import MultinomialNB\n",
    "\n",
    "mnb = MultinomialNB()\n",
    "mnb.fit(x_train_tfidf, y_train)\n",
    "y_pred_1 = mnb.predict(x_test_tfidf)\n",
    "print('F1 Score: ', f1_score(y_test, y_pred_1, average = 'weighted'))\n",
    "print('Classification Report: \\n', classification_report(y_test, y_pred_1))"
   ]
  },
  {
   "cell_type": "code",
   "execution_count": 30,
   "id": "7ca19f23",
   "metadata": {},
   "outputs": [
    {
     "name": "stdout",
     "output_type": "stream",
     "text": [
      "F1 Score:  0.8545990863036158\n",
      "Classification Report: \n",
      "               precision    recall  f1-score   support\n",
      "\n",
      "    negative       0.87      0.82      0.84       477\n",
      "    positive       0.84      0.89      0.86       522\n",
      "\n",
      "    accuracy                           0.85       999\n",
      "   macro avg       0.86      0.85      0.85       999\n",
      "weighted avg       0.86      0.85      0.85       999\n",
      "\n"
     ]
    }
   ],
   "source": [
    "from sklearn.linear_model import LogisticRegression\n",
    "\n",
    "lr = LogisticRegression()\n",
    "lr.fit(x_train_tfidf, y_train)\n",
    "y_pred_2 = lr.predict(x_test_tfidf)\n",
    "print('F1 Score: ', f1_score(y_test, y_pred_2, average = 'weighted'))\n",
    "print('Classification Report: \\n', classification_report(y_test, y_pred_2))"
   ]
  },
  {
   "cell_type": "code",
   "execution_count": 31,
   "id": "79893121",
   "metadata": {},
   "outputs": [
    {
     "name": "stdout",
     "output_type": "stream",
     "text": [
      "F1 Score:  0.823852823435287\n",
      "Classification Report: \n",
      "               precision    recall  f1-score   support\n",
      "\n",
      "    negative       0.81      0.82      0.82       477\n",
      "    positive       0.83      0.83      0.83       522\n",
      "\n",
      "    accuracy                           0.82       999\n",
      "   macro avg       0.82      0.82      0.82       999\n",
      "weighted avg       0.82      0.82      0.82       999\n",
      "\n"
     ]
    }
   ],
   "source": [
    "from sklearn.ensemble import RandomForestClassifier\n",
    "\n",
    "rf = RandomForestClassifier()\n",
    "rf.fit(x_train_tfidf, y_train)\n",
    "y_pred_3 = rf.predict(x_test_tfidf)\n",
    "print('F1 Score: ', f1_score(y_test, y_pred_3, average = 'weighted'))\n",
    "print('Classification Report: \\n', classification_report(y_test, y_pred_3))"
   ]
  },
  {
   "cell_type": "code",
   "execution_count": 32,
   "id": "e3881899",
   "metadata": {},
   "outputs": [],
   "source": [
    "from sklearn.model_selection import StratifiedKFold\n",
    "skf = StratifiedKFold(n_splits = 5, shuffle = True, random_state = 42)"
   ]
  },
  {
   "cell_type": "code",
   "execution_count": 33,
   "id": "3417f613",
   "metadata": {},
   "outputs": [
    {
     "name": "stdout",
     "output_type": "stream",
     "text": [
      "CV Results of MNB:  0.8402627344330789\n"
     ]
    }
   ],
   "source": [
    "from sklearn.naive_bayes import MultinomialNB\n",
    "mnb = MultinomialNB()\n",
    "\n",
    "from sklearn.model_selection import cross_val_score\n",
    "cv_results = cross_val_score(mnb, x_train_tfidf, y_train, cv = skf)\n",
    "\n",
    "# CV Results\n",
    "print (\"CV Results of MNB: \", cv_results.mean())"
   ]
  },
  {
   "cell_type": "code",
   "execution_count": 34,
   "id": "68736367",
   "metadata": {},
   "outputs": [],
   "source": [
    "from numpy import arange\n",
    "param_grid = {\n",
    "    'penalty': [\"l1\", \"l2\", \"elasticnet\"],\n",
    "    'solver': ['saga', 'liblinear', 'lbfgs'],\n",
    "    'class_weight': ['balanced']\n",
    "}"
   ]
  },
  {
   "cell_type": "code",
   "execution_count": 35,
   "id": "39fee1d1",
   "metadata": {},
   "outputs": [
    {
     "name": "stderr",
     "output_type": "stream",
     "text": [
      "c:\\Users\\Student\\AppData\\Local\\Programs\\Python\\Python313\\Lib\\site-packages\\sklearn\\model_selection\\_validation.py:516: FitFailedWarning: \n",
      "20 fits failed out of a total of 45.\n",
      "The score on these train-test partitions for these parameters will be set to nan.\n",
      "If these failures are not expected, you can try to debug them by setting error_score='raise'.\n",
      "\n",
      "Below are more details about the failures:\n",
      "--------------------------------------------------------------------------------\n",
      "5 fits failed with the following error:\n",
      "Traceback (most recent call last):\n",
      "  File \"c:\\Users\\Student\\AppData\\Local\\Programs\\Python\\Python313\\Lib\\site-packages\\sklearn\\model_selection\\_validation.py\", line 859, in _fit_and_score\n",
      "    estimator.fit(X_train, y_train, **fit_params)\n",
      "    ~~~~~~~~~~~~~^^^^^^^^^^^^^^^^^^^^^^^^^^^^^^^^\n",
      "  File \"c:\\Users\\Student\\AppData\\Local\\Programs\\Python\\Python313\\Lib\\site-packages\\sklearn\\base.py\", line 1365, in wrapper\n",
      "    return fit_method(estimator, *args, **kwargs)\n",
      "  File \"c:\\Users\\Student\\AppData\\Local\\Programs\\Python\\Python313\\Lib\\site-packages\\sklearn\\linear_model\\_logistic.py\", line 1218, in fit\n",
      "    solver = _check_solver(self.solver, self.penalty, self.dual)\n",
      "  File \"c:\\Users\\Student\\AppData\\Local\\Programs\\Python\\Python313\\Lib\\site-packages\\sklearn\\linear_model\\_logistic.py\", line 64, in _check_solver\n",
      "    raise ValueError(\n",
      "    ...<2 lines>...\n",
      "    )\n",
      "ValueError: Solver lbfgs supports only 'l2' or None penalties, got l1 penalty.\n",
      "\n",
      "--------------------------------------------------------------------------------\n",
      "5 fits failed with the following error:\n",
      "Traceback (most recent call last):\n",
      "  File \"c:\\Users\\Student\\AppData\\Local\\Programs\\Python\\Python313\\Lib\\site-packages\\sklearn\\model_selection\\_validation.py\", line 859, in _fit_and_score\n",
      "    estimator.fit(X_train, y_train, **fit_params)\n",
      "    ~~~~~~~~~~~~~^^^^^^^^^^^^^^^^^^^^^^^^^^^^^^^^\n",
      "  File \"c:\\Users\\Student\\AppData\\Local\\Programs\\Python\\Python313\\Lib\\site-packages\\sklearn\\base.py\", line 1365, in wrapper\n",
      "    return fit_method(estimator, *args, **kwargs)\n",
      "  File \"c:\\Users\\Student\\AppData\\Local\\Programs\\Python\\Python313\\Lib\\site-packages\\sklearn\\linear_model\\_logistic.py\", line 1228, in fit\n",
      "    raise ValueError(\"l1_ratio must be specified when penalty is elasticnet.\")\n",
      "ValueError: l1_ratio must be specified when penalty is elasticnet.\n",
      "\n",
      "--------------------------------------------------------------------------------\n",
      "5 fits failed with the following error:\n",
      "Traceback (most recent call last):\n",
      "  File \"c:\\Users\\Student\\AppData\\Local\\Programs\\Python\\Python313\\Lib\\site-packages\\sklearn\\model_selection\\_validation.py\", line 859, in _fit_and_score\n",
      "    estimator.fit(X_train, y_train, **fit_params)\n",
      "    ~~~~~~~~~~~~~^^^^^^^^^^^^^^^^^^^^^^^^^^^^^^^^\n",
      "  File \"c:\\Users\\Student\\AppData\\Local\\Programs\\Python\\Python313\\Lib\\site-packages\\sklearn\\base.py\", line 1365, in wrapper\n",
      "    return fit_method(estimator, *args, **kwargs)\n",
      "  File \"c:\\Users\\Student\\AppData\\Local\\Programs\\Python\\Python313\\Lib\\site-packages\\sklearn\\linear_model\\_logistic.py\", line 1218, in fit\n",
      "    solver = _check_solver(self.solver, self.penalty, self.dual)\n",
      "  File \"c:\\Users\\Student\\AppData\\Local\\Programs\\Python\\Python313\\Lib\\site-packages\\sklearn\\linear_model\\_logistic.py\", line 72, in _check_solver\n",
      "    raise ValueError(\n",
      "        f\"Only 'saga' solver supports elasticnet penalty, got solver={solver}.\"\n",
      "    )\n",
      "ValueError: Only 'saga' solver supports elasticnet penalty, got solver=liblinear.\n",
      "\n",
      "--------------------------------------------------------------------------------\n",
      "5 fits failed with the following error:\n",
      "Traceback (most recent call last):\n",
      "  File \"c:\\Users\\Student\\AppData\\Local\\Programs\\Python\\Python313\\Lib\\site-packages\\sklearn\\model_selection\\_validation.py\", line 859, in _fit_and_score\n",
      "    estimator.fit(X_train, y_train, **fit_params)\n",
      "    ~~~~~~~~~~~~~^^^^^^^^^^^^^^^^^^^^^^^^^^^^^^^^\n",
      "  File \"c:\\Users\\Student\\AppData\\Local\\Programs\\Python\\Python313\\Lib\\site-packages\\sklearn\\base.py\", line 1365, in wrapper\n",
      "    return fit_method(estimator, *args, **kwargs)\n",
      "  File \"c:\\Users\\Student\\AppData\\Local\\Programs\\Python\\Python313\\Lib\\site-packages\\sklearn\\linear_model\\_logistic.py\", line 1218, in fit\n",
      "    solver = _check_solver(self.solver, self.penalty, self.dual)\n",
      "  File \"c:\\Users\\Student\\AppData\\Local\\Programs\\Python\\Python313\\Lib\\site-packages\\sklearn\\linear_model\\_logistic.py\", line 64, in _check_solver\n",
      "    raise ValueError(\n",
      "    ...<2 lines>...\n",
      "    )\n",
      "ValueError: Solver lbfgs supports only 'l2' or None penalties, got elasticnet penalty.\n",
      "\n",
      "  warnings.warn(some_fits_failed_message, FitFailedWarning)\n",
      "c:\\Users\\Student\\AppData\\Local\\Programs\\Python\\Python313\\Lib\\site-packages\\sklearn\\model_selection\\_search.py:1135: UserWarning: One or more of the test scores are non-finite: [0.81731052 0.81731793        nan 0.84514575 0.84514575 0.84540011\n",
      "        nan        nan        nan]\n",
      "  warnings.warn(\n"
     ]
    },
    {
     "name": "stdout",
     "output_type": "stream",
     "text": [
      "Best Parameters of LR:  {'class_weight': 'balanced', 'penalty': 'l2', 'solver': 'lbfgs'}\n",
      "Best F1 Score of LR:  0.8454001142199316\n"
     ]
    }
   ],
   "source": [
    "grid_rf = GridSearchCV(lr, param_grid, scoring = 'f1_weighted', cv = skf)\n",
    "grid_rf.fit(x_train_tfidf, y_train)\n",
    "print(\"Best Parameters of LR: \", grid_rf.best_params_)\n",
    "print(\"Best F1 Score of LR: \", grid_rf.best_score_)"
   ]
  },
  {
   "cell_type": "code",
   "execution_count": 36,
   "id": "62c0380d",
   "metadata": {},
   "outputs": [],
   "source": [
    "from numpy import arange\n",
    "param_grid = {\n",
    "    'criterion': [\"gini\", \"entropy\", \"log_loss\"],\n",
    "    'max_depth': arange(3, 5, 1),\n",
    "    'class_weight': ['balanced']\n",
    "}"
   ]
  },
  {
   "cell_type": "code",
   "execution_count": 37,
   "id": "8e7e122f",
   "metadata": {},
   "outputs": [
    {
     "name": "stdout",
     "output_type": "stream",
     "text": [
      "Best Parameters of RF:  {'class_weight': 'balanced', 'criterion': 'log_loss', 'max_depth': np.int64(4)}\n",
      "Best F1 Score of RF:  0.800491790604893\n"
     ]
    }
   ],
   "source": [
    "grid_rf = GridSearchCV(rf, param_grid, scoring = 'f1_weighted', cv = skf)\n",
    "grid_rf.fit(x_train_tfidf, y_train)\n",
    "print(\"Best Parameters of RF: \", grid_rf.best_params_)\n",
    "print(\"Best F1 Score of RF: \", grid_rf.best_score_)"
   ]
  },
  {
   "cell_type": "markdown",
   "id": "26c5e6a7",
   "metadata": {},
   "source": [
    "ML-workshope-01"
   ]
  }
 ],
 "metadata": {
  "kernelspec": {
   "display_name": "Python 3",
   "language": "python",
   "name": "python3"
  },
  "language_info": {
   "codemirror_mode": {
    "name": "ipython",
    "version": 3
   },
   "file_extension": ".py",
   "mimetype": "text/x-python",
   "name": "python",
   "nbconvert_exporter": "python",
   "pygments_lexer": "ipython3",
   "version": "3.13.5"
  }
 },
 "nbformat": 4,
 "nbformat_minor": 5
}
